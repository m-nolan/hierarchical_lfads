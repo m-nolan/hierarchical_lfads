{
 "metadata": {
  "language_info": {
   "codemirror_mode": {
    "name": "ipython",
    "version": 3
   },
   "file_extension": ".py",
   "mimetype": "text/x-python",
   "name": "python",
   "nbconvert_exporter": "python",
   "pygments_lexer": "ipython3",
   "version": "3.7.6"
  },
  "orig_nbformat": 2,
  "kernelspec": {
   "name": "python376jvsc74a57bd0a8b1621963cf260009cce534265ebd329ad9e92f76229299bf2e2f323a893fa1",
   "display_name": "Python 3.7.6 64-bit ('ecog_is2s': conda)"
  }
 },
 "nbformat": 4,
 "nbformat_minor": 2,
 "cells": [
  {
   "cell_type": "code",
   "execution_count": null,
   "metadata": {},
   "outputs": [],
   "source": [
    "import os\n",
    "import pickle as pkl\n",
    "import matplotlib.pyplot as plt\n",
    "from matplotlib.colors import from_levels_and_colors, to_rgb\n",
    "import numpy as np\n",
    "import pandas as pd"
   ]
  },
  {
   "cell_type": "code",
   "execution_count": null,
   "metadata": {},
   "outputs": [],
   "source": [
    "model_scale_list = [32, 64, 96, 128, 256]\n",
    "model_dir_list = [\n",
    "    r'D:\\Users\\mickey\\Data\\models\\pyt\\lfads\\gw_250\\lfads_ecog\\cenc0_cont0_fact32_genc1024_gene1024_glat1024_nch42_seqlen50_ulat0_orion-varstd',\n",
    "    r'D:\\Users\\mickey\\Data\\models\\pyt\\lfads\\gw_250\\lfads_ecog\\cenc0_cont0_fact64_genc1024_gene1024_glat1024_nch42_seqlen50_ulat0_orion-varstd',\n",
    "    r'D:\\Users\\mickey\\Data\\models\\pyt\\lfads\\gw_250\\lfads_ecog\\cenc0_cont0_fact96_genc1024_gene1024_glat1024_nch42_seqlen50_ulat0_orion-varstd',\n",
    "    r'D:\\Users\\mickey\\Data\\models\\pyt\\lfads\\gw_250\\lfads_ecog\\cenc0_cont0_fact128_genc1024_gene1024_glat1024_nch42_seqlen50_ulat0_orion-varstd',\n",
    "    r'D:\\Users\\mickey\\Data\\models\\pyt\\lfads\\gw_250\\lfads_ecog\\cenc0_cont0_fact256_genc1024_gene1024_glat1024_nch42_seqlen50_ulat0_orion-varstd'\n",
    "]\n",
    "psd_data_file_list = [os.path.join(s,r'figs\\psd_data_dict.pkl') for s in model_dir_list]\n",
    "performance_table_file_list = [os.path.join(s,r'performance_table.csv') for s in model_dir_list]\n",
    "for psd_data_file in psd_data_file_list:\n",
    "    assert os.path.exists(psd_data_file), f'{psd_data_file} not found.'\n",
    "for perf_table_file in performance_table_file_list:\n",
    "    assert os.path.exists(perf_table_file), f'{perf_table_file} not found.'"
   ]
  },
  {
   "cell_type": "code",
   "execution_count": null,
   "metadata": {},
   "outputs": [],
   "source": [
    "def get_model_parameters_from_perf_table_path(perf_table_file):\n",
    "    file_parts = perf_table_file.split(os.path.sep)\n",
    "    model_dir_str = file_parts[-2]\n",
    "    return model_dir_str\n",
    "\n",
    "def read_and_concat_csv(table_file_list):\n",
    "    table_list = []\n",
    "    for file_idx, table_file in enumerate(table_file_list):\n",
    "        model_dir_str = get_model_parameters_from_perf_table_path(table_file)\n",
    "        table_row = pd.read_csv(table_file)\n",
    "        table_row['model_dir_name'] = model_dir_str\n",
    "        table_list.append(table_row)\n",
    "    table_cat = pd.concat(table_list)\n",
    "    return table_cat\n",
    "\n",
    "perf_table_all = read_and_concat_csv(performance_table_file_list)"
   ]
  },
  {
   "cell_type": "code",
   "execution_count": null,
   "metadata": {},
   "outputs": [],
   "source": [
    "fig, ax = plt.subplots(1,1,dpi=150)\n",
    "cmap = np.linspace(to_rgb('gainsboro'),to_rgb('tab:orange'),len(psd_data_file_list))\n",
    "for idx, psd_data_file in enumerate(psd_data_file_list):\n",
    "    with open(psd_data_file,'rb') as f:\n",
    "        psd_dict = pkl.load(f)\n",
    "    ax.plot(psd_dict['f_psd'],10*np.log10(psd_dict['recon_psd_mean']),label=str(model_scale_list[idx]),color=cmap[idx,:])\n",
    "ax.plot(psd_dict['f_psd'],10*np.log10(psd_dict['data_psd_mean']),color='tab:blue',label='data')\n",
    "ax.plot(psd_dict['f_ar_psd'],10*np.log10(psd_dict['ar_psd_mean']),color='tab:green',label='AR')\n",
    "ax.legend(loc=0,title='Factor Count')\n",
    "ax.set_xlim(0,100)\n",
    "ax.set_xlabel('freq. (Hz)')\n",
    "ax.set_ylabel('PSD (dB)')\n",
    "ax.set_title('ECoG reconstruction, varying factor count')"
   ]
  },
  {
   "cell_type": "code",
   "execution_count": null,
   "metadata": {},
   "outputs": [],
   "source": [
    "quals_report_directory_path = r'G:\\My Drive\\publications\\Quals paper'\n",
    "fig.savefig(os.path.join(quals_report_directory_path,'psd_vary_factor_count.png'))\n",
    "fig.savefig(os.path.join(quals_report_directory_path,'psd_vary_factor_count.svg'))"
   ]
  },
  {
   "cell_type": "code",
   "execution_count": null,
   "metadata": {},
   "outputs": [],
   "source": [
    "ar_rpe_mean = 1.02\n",
    "ar_rpe_lb = 1.01\n",
    "ar_rpe_ub = 2.67\n",
    "ar_corr_mean = 0.25\n",
    "ar_corr_lb = 0.18\n",
    "ar_corr_ub = 0.34\n",
    "fig, ax = plt.subplots(1,1,dpi=150)\n",
    "# mse\n",
    "ax.errorbar(model_scale_list,perf_table_all['mse_mean'],\n",
    "            [perf_table_all['mse_97.5ci']-perf_table_all['mse_mean'],\n",
    "             perf_table_all['mse_mean']-perf_table_all['mse_2.5ci']],\n",
    "             capsize=2.5, color='tab:red', marker='o',\n",
    "             label='MSE')\n",
    "# corr\n",
    "ax.errorbar(model_scale_list,perf_table_all['corr_mean'],\n",
    "            [perf_table_all['corr_97.5ci']-perf_table_all['corr_mean'],\n",
    "             perf_table_all['corr_mean']-perf_table_all['corr_2.5ci']],\n",
    "             capsize=2.5, color='tab:purple', marker='o',\n",
    "             label='Corr.')\n",
    "ax.legend(loc=0)\n",
    "ax.set_xlabel('# of Factors')\n",
    "ax.set_ylabel('Metric Measurement')\n",
    "ax.set_title('Reconstruction Error and Corr. v. Factor Count')"
   ]
  },
  {
   "cell_type": "code",
   "execution_count": null,
   "metadata": {},
   "outputs": [],
   "source": [
    "quals_report_directory_path = r'G:\\My Drive\\publications\\Quals paper'\n",
    "fig.savefig(os.path.join(quals_report_directory_path,'perf_vary_factor_count.png'))\n",
    "fig.savefig(os.path.join(quals_report_directory_path,'perf_vary_factor_count.svg'))"
   ]
  },
  {
   "cell_type": "code",
   "execution_count": null,
   "metadata": {},
   "outputs": [],
   "source": []
  }
 ]
}