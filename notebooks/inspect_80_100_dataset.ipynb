{
 "metadata": {
  "language_info": {
   "codemirror_mode": {
    "name": "ipython",
    "version": 3
   },
   "file_extension": ".py",
   "mimetype": "text/x-python",
   "name": "python",
   "nbconvert_exporter": "python",
   "pygments_lexer": "ipython3",
   "version": "3.7.6-final"
  },
  "orig_nbformat": 2,
  "kernelspec": {
   "name": "python376jvsc74a57bd0a8b1621963cf260009cce534265ebd329ad9e92f76229299bf2e2f323a893fa1",
   "display_name": "Python 3.7.6 64-bit ('ecog_is2s': conda)"
  }
 },
 "nbformat": 4,
 "nbformat_minor": 2,
 "cells": [
  {
   "cell_type": "code",
   "execution_count": 1,
   "metadata": {},
   "outputs": [],
   "source": [
    "import os\n",
    "import sys\n",
    "import aopy\n",
    "import h5py as h5\n",
    "import numpy as np\n",
    "import scipy as sp\n",
    "import matplotlib.pyplot as plt"
   ]
  },
  {
   "cell_type": "code",
   "execution_count": 2,
   "metadata": {},
   "outputs": [
    {
     "output_type": "stream",
     "name": "stdout",
     "text": [
      "dt:\t()\ntest_ecog_fl80u100:\t(58728, 50, 41)\ntrain_ecog_fl80u100:\t(411094, 50, 41)\nvalid_ecog_fl80u100:\t(117455, 50, 41)\n"
     ]
    }
   ],
   "source": [
    "dataset_path = r\"D:\\Users\\mickey\\Data\\datasets\\ecog\\goose_wireless\\gw_250_fl80u100\"\n",
    "dataset = h5.File(dataset_path,mode='r')\n",
    "dataset.keys()\n",
    "for k, v in dataset.items():\n",
    "    print(f'{k}:\\t{v.shape}')\n",
    "dataset.close()"
   ]
  },
  {
   "cell_type": "code",
   "execution_count": null,
   "metadata": {},
   "outputs": [],
   "source": [
    "# this is, again, broken. I don't know what's going wrong here. Do the fdl loss profile first, then come back to this (remake the dataset, make sure the valid/test sets aren't cut down this time.)"
   ]
  },
  {
   "cell_type": "code",
   "execution_count": null,
   "metadata": {},
   "outputs": [],
   "source": [
    "# taking a look at the original data files:\n"
   ]
  }
 ]
}