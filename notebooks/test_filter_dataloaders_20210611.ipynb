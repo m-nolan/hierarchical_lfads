{
 "metadata": {
  "language_info": {
   "codemirror_mode": {
    "name": "ipython",
    "version": 3
   },
   "file_extension": ".py",
   "mimetype": "text/x-python",
   "name": "python",
   "nbconvert_exporter": "python",
   "pygments_lexer": "ipython3",
   "version": "3.7.6"
  },
  "orig_nbformat": 2,
  "kernelspec": {
   "name": "python376jvsc74a57bd0a8b1621963cf260009cce534265ebd329ad9e92f76229299bf2e2f323a893fa1",
   "display_name": "Python 3.7.6 64-bit ('ecog_is2s': conda)"
  }
 },
 "nbformat": 4,
 "nbformat_minor": 2,
 "cells": [
  {
   "cell_type": "code",
   "execution_count": null,
   "metadata": {},
   "outputs": [],
   "source": [
    "import os\n",
    "import site\n",
    "site.addsitedir(r'D:\\Users\\mickey\\aoLab\\code\\hierarchical_lfads')\n",
    "from dataset import EcogTensorDataset, MultiblockEcogTensorDataset, FilterData, create_n_block_w\n",
    "import h5py\n",
    "import torch\n",
    "import matplotlib.pyplot as plt\n",
    "import time\n",
    "from utils import read_data, read_multiband_data"
   ]
  },
  {
   "cell_type": "code",
   "execution_count": null,
   "metadata": {},
   "outputs": [],
   "source": [
    "full_record_path = r'D:\\Users\\mickey\\Data\\datasets\\ecog\\goose_wireless\\gw_250_renorm'\n",
    "filt_record_path = r'D:\\Users\\mickey\\Data\\datasets\\ecog\\goose_wireless\\gw_250_nband2'\n",
    "full_record = h5py.File(full_record_path,mode='r')\n",
    "filt_record = h5py.File(filt_record_path,mode='r')\n",
    "test_data = torch.tensor(full_record['test_ecog'][()])\n",
    "# create filtering dataset\n",
    "n_iir = 20\n",
    "n_pad = 49\n",
    "n_block = 2\n",
    "device='cpu'\n",
    "w = create_n_block_w(n_block)\n",
    "w[0] = w[0][1:]\n",
    "w[-1] = w[-1][:1]\n",
    "filter_xform = FilterData(w,n_iir,padlen=n_pad,normalize=False)\n",
    "transform_mask = [True, False]\n",
    "filtering_ds = EcogTensorDataset(test_data,test_data,device=device,transform=filter_xform,transform_mask=transform_mask)\n",
    "# create pre-filtered dataset\n",
    "filtered_ds = MultiblockEcogTensorDataset(full_record,filt_record,n_band=n_block,part_str='test')"
   ]
  },
  {
   "cell_type": "code",
   "execution_count": null,
   "metadata": {},
   "outputs": [],
   "source": [
    "idx = 234\n",
    "post_sample = filtering_ds.__getitem__(idx)\n",
    "pre_sample = filtered_ds.__getitem__(idx)\n",
    "fig, ax = plt.subplots(1,2,dpi=150)\n",
    "# pre sample\n",
    "ax[0].plot(post_sample[0][0][:,0],label='low') # low freq\n",
    "ax[0].plot(post_sample[0][1][:,0],label='high') # high freq\n",
    "ax[0].plot(post_sample[1][:,0],label='full')\n",
    "# post sample\n",
    "ax[1].plot(pre_sample[0][0][:,0],label='low') # low freq\n",
    "ax[1].plot(pre_sample[0][1][:,0],label='high') # high freq\n",
    "ax[1].plot(pre_sample[1][:,0],label='full')"
   ]
  },
  {
   "source": [
    "... you know what you did wrong. Fix it!"
   ],
   "cell_type": "markdown",
   "metadata": {}
  },
  {
   "source": [
    "update - I fixed it! I should check out that normalization bug later, but that's with the dataset class I'm NOT using rn so that's a problem for post-vacation me."
   ],
   "cell_type": "markdown",
   "metadata": {}
  },
  {
   "cell_type": "code",
   "execution_count": null,
   "metadata": {},
   "outputs": [],
   "source": []
  }
 ]
}