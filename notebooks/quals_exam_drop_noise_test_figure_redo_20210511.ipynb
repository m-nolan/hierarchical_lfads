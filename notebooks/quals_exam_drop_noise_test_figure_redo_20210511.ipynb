{
 "metadata": {
  "language_info": {
   "codemirror_mode": {
    "name": "ipython",
    "version": 3
   },
   "file_extension": ".py",
   "mimetype": "text/x-python",
   "name": "python",
   "nbconvert_exporter": "python",
   "pygments_lexer": "ipython3",
   "version": "3.7.6"
  },
  "orig_nbformat": 2,
  "kernelspec": {
   "name": "python376jvsc74a57bd0a8b1621963cf260009cce534265ebd329ad9e92f76229299bf2e2f323a893fa1",
   "display_name": "Python 3.7.6 64-bit ('ecog_is2s': conda)"
  }
 },
 "nbformat": 4,
 "nbformat_minor": 2,
 "cells": [
  {
   "cell_type": "code",
   "execution_count": null,
   "metadata": {},
   "outputs": [],
   "source": [
    "import os\n",
    "import pandas as pd\n",
    "import pickle as pkl\n",
    "import matplotlib.pyplot as plt"
   ]
  },
  {
   "cell_type": "code",
   "execution_count": null,
   "metadata": {},
   "outputs": [],
   "source": [
    "drop_analysis_path = r'D:\\Users\\mickey\\Data\\analysis\\drop_ch_n1024_f64_separate'\n",
    "# drop_data_pkl_file = os.path.join(drop_analysis_path,'metric_tables.pkl')\n",
    "# with open(drop_data_pkl_file,'rb') as f:\n",
    "#     drop_data_dict = pkl.load(f)\n",
    "drop_stat_df = pd.read_csv(os.path.join(drop_analysis_path,'stat_table_asdf.csv'))\n",
    "noise_analysis_path = r'D:\\Users\\mickey\\Data\\analysis\\noise_ch_n1024_f64_separate'\n",
    "# noise_data_pkl_file = os.path.join(noise_analysis_path,'metric_tables.pkl')\n",
    "# with open(noise_data_pkl_file,'rb') as f:\n",
    "#     noise_data_dict = pkl.load(f)\n",
    "noise_stat_df = pd.read_csv(os.path.join(noise_analysis_path,'stat_table_asdf.csv'))"
   ]
  },
  {
   "cell_type": "code",
   "execution_count": null,
   "metadata": {},
   "outputs": [],
   "source": [
    "f_drop, ax = plt.subplots(1,2,dpi=150,figsize=(8,4))\n",
    "ax[0].errorbar(x = drop_stat_df.drop_rate,\n",
    "            y = drop_stat_df.mse_keep_mean,\n",
    "            yerr = [drop_stat_df.mse_keep_mean-drop_stat_df['mse_keep_2.5ci'], \n",
    "                    drop_stat_df['mse_keep_97.5ci']-drop_stat_df.mse_keep_mean],\n",
    "            capsize = 2,\n",
    "            label = 'keep',\n",
    "            color = 'tab:red')\n",
    "ax[0].errorbar(x = drop_stat_df.drop_rate,\n",
    "            y = drop_stat_df.mse_drop_mean,\n",
    "            yerr = [drop_stat_df.mse_drop_mean-drop_stat_df['mse_drop_2.5ci'], \n",
    "                    drop_stat_df['mse_drop_97.5ci']-drop_stat_df.mse_drop_mean],\n",
    "            linestyle = '--',\n",
    "            capsize = 2,\n",
    "            label = 'drop',\n",
    "            color = 'tab:red')\n",
    "ax[0].legend(loc=0)\n",
    "ax[0].set_xlabel('Drop Channel Ratio')\n",
    "ax[0].set_ylabel('MSE')\n",
    "ax[0].set_title('Dropped Channel Performance: MSE')\n",
    "ax[1].errorbar(x = drop_stat_df.drop_rate,\n",
    "            y = drop_stat_df.corr_keep_mean,\n",
    "            yerr = [drop_stat_df.corr_keep_mean-drop_stat_df['corr_keep_2.5ci'], \n",
    "                    drop_stat_df['corr_keep_97.5ci']-drop_stat_df.corr_keep_mean],\n",
    "            capsize = 2,\n",
    "            label = 'keep',\n",
    "            color = 'tab:purple')\n",
    "ax[1].errorbar(x = drop_stat_df.drop_rate,\n",
    "            y = drop_stat_df.corr_drop_mean,\n",
    "            yerr = [drop_stat_df.corr_drop_mean-drop_stat_df['corr_drop_2.5ci'], \n",
    "                    drop_stat_df['corr_drop_97.5ci']-drop_stat_df.corr_drop_mean],\n",
    "            linestyle = '--',\n",
    "            capsize = 2,\n",
    "            label = 'drop',\n",
    "            color = 'tab:purple')\n",
    "ax[1].legend(loc=0)\n",
    "ax[1].set_xlabel('Drop Channel Ratio')\n",
    "ax[1].set_ylabel('Corr.')\n",
    "ax[1].set_title('Dropped Channel Performance: Corr.')"
   ]
  },
  {
   "cell_type": "code",
   "execution_count": null,
   "metadata": {},
   "outputs": [],
   "source": [
    "f_noise, ax = plt.subplots(1,2,dpi=150,figsize=(8,4))\n",
    "ax[0].errorbar(x = noise_stat_df.drop_rate,\n",
    "            y = noise_stat_df.mse_keep_mean,\n",
    "            yerr = [noise_stat_df.mse_keep_mean-noise_stat_df['mse_keep_2.5ci'], \n",
    "                    noise_stat_df['mse_keep_97.5ci']-noise_stat_df.mse_keep_mean],\n",
    "            capsize = 2,\n",
    "            label = 'clean',\n",
    "            color = 'tab:red')\n",
    "ax[0].errorbar(x = noise_stat_df.drop_rate,\n",
    "            y = noise_stat_df.mse_drop_mean,\n",
    "            yerr = [noise_stat_df.mse_drop_mean-noise_stat_df['mse_drop_2.5ci'], \n",
    "                    noise_stat_df['mse_drop_97.5ci']-noise_stat_df.mse_drop_mean],\n",
    "            linestyle = '--',\n",
    "            capsize = 2,\n",
    "            label = 'drop',\n",
    "            color = 'tab:red')\n",
    "ax[0].legend(loc=0)\n",
    "ax[0].set_xlabel('Noise Channel Ratio')\n",
    "ax[0].set_ylabel('MSE')\n",
    "ax[0].set_title('Noisy Channel Performance: MSE')\n",
    "ax[1].errorbar(x = noise_stat_df.drop_rate,\n",
    "            y = noise_stat_df.corr_keep_mean,\n",
    "            yerr = [noise_stat_df.corr_keep_mean-noise_stat_df['corr_keep_2.5ci'], \n",
    "                    noise_stat_df['corr_keep_97.5ci']-noise_stat_df.corr_keep_mean],\n",
    "            capsize = 2,\n",
    "            label = 'clean',\n",
    "            color = 'tab:purple')\n",
    "ax[1].errorbar(x = noise_stat_df.drop_rate,\n",
    "            y = noise_stat_df.corr_drop_mean,\n",
    "            yerr = [noise_stat_df.corr_drop_mean-noise_stat_df['corr_drop_2.5ci'], \n",
    "                    noise_stat_df['corr_drop_97.5ci']-noise_stat_df.corr_drop_mean],\n",
    "            linestyle = '--',\n",
    "            capsize = 2,\n",
    "            label = 'noise',\n",
    "            color = 'tab:purple')\n",
    "ax[1].legend(loc=0)\n",
    "ax[1].set_xlabel('Noise Channel Ratio')\n",
    "ax[1].set_ylabel('Corr.')\n",
    "ax[1].set_title('Noisy Channel Performance: Corr.')"
   ]
  },
  {
   "cell_type": "code",
   "execution_count": null,
   "metadata": {},
   "outputs": [],
   "source": [
    "quals_exam_dir_path = r'G:\\My Drive\\publications\\Quals paper'\n",
    "f_drop.savefig(os.path.join(quals_exam_dir_path,'drop_channel_performance_droptrain.png'))\n",
    "f_drop.savefig(os.path.join(quals_exam_dir_path,'drop_channel_performance_droptrain.svg'))\n",
    "f_noise.savefig(os.path.join(quals_exam_dir_path,'noise_channel_performance_droptrain.png'))\n",
    "f_noise.savefig(os.path.join(quals_exam_dir_path,'noise_channel_performance_droptrain.svg'))"
   ]
  }
 ]
}