{
 "metadata": {
  "language_info": {
   "codemirror_mode": {
    "name": "ipython",
    "version": 3
   },
   "file_extension": ".py",
   "mimetype": "text/x-python",
   "name": "python",
   "nbconvert_exporter": "python",
   "pygments_lexer": "ipython3",
   "version": "3.7.6-final"
  },
  "orig_nbformat": 2,
  "kernelspec": {
   "name": "python376jvsc74a57bd0a8b1621963cf260009cce534265ebd329ad9e92f76229299bf2e2f323a893fa1",
   "display_name": "Python 3.7.6 64-bit ('ecog_is2s': conda)"
  }
 },
 "nbformat": 4,
 "nbformat_minor": 2,
 "cells": [
  {
   "cell_type": "code",
   "execution_count": null,
   "metadata": {},
   "outputs": [],
   "source": [
    "import h5py\n",
    "import pickle as pkl\n",
    "import numpy as np\n",
    "import os"
   ]
  },
  {
   "cell_type": "code",
   "execution_count": null,
   "metadata": {},
   "outputs": [],
   "source": [
    "dataset_dir = 'D:/Users/mickey/Data/datasets/ecog/goose_wireless'\n",
    "assert os.path.exists(dataset_dir), f'{dataset_dir} not found!'"
   ]
  },
  {
   "cell_type": "code",
   "execution_count": null,
   "metadata": {},
   "outputs": [],
   "source": [
    "full_dataset_h5f = h5py.File(os.path.join(dataset_dir,'gw_250'),mode='r')\n",
    "with open(os.path.join(dataset_dir,'gw_250_param.pkl'),mode='rb') as pf:\n",
    "    full_dataset_param_dict = pkl.load(pf)"
   ]
  },
  {
   "cell_type": "code",
   "execution_count": null,
   "metadata": {},
   "outputs": [],
   "source": [
    "# create smaller dataset, randomly sampling from each portion\n",
    "frac_train_size = full_dataset_h5f['train_ecog'].shape[0]//10\n",
    "frac_valid_size = full_dataset_h5f['valid_ecog'].shape[0]//10\n",
    "frac_test_size = full_dataset_h5f['test_ecog'].shape[0]//10\n",
    "frac_train_idx = np.random.permutation(full_dataset_h5f['train_ecog'].shape[0])[:frac_train_size]\n",
    "frac_valid_idx = np.random.permutation(full_dataset_h5f['valid_ecog'].shape[0])[:frac_valid_size]\n",
    "frac_test_idx = np.random.permutation(full_dataset_h5f['test_ecog'].shape[0])[:frac_test_size]"
   ]
  },
  {
   "cell_type": "code",
   "execution_count": null,
   "metadata": {},
   "outputs": [],
   "source": [
    "# save dataset and parameter pickle (same as the full set, I didn't actually save the sample order in the original).\n",
    "frac_dataset_h5f = h5py.File(os.path.join(dataset_dir,'gw_250_pilot'),mode='w')\n",
    "frac_dataset_h5f['train_ecog'] = full_dataset_h5f['train_ecog'].value[frac_train_idx,:,:]\n",
    "frac_dataset_h5f['valid_ecog'] = full_dataset_h5f['valid_ecog'].value[frac_valid_idx,:,:]\n",
    "frac_dataset_h5f['test_ecog'] = full_dataset_h5f['test_ecog'].value[frac_test_idx]"
   ]
  },
  {
   "cell_type": "code",
   "execution_count": null,
   "metadata": {},
   "outputs": [],
   "source": [
    "full_dataset_h5f.close()\n",
    "frac_dataset_h5f.close()"
   ]
  },
  {
   "cell_type": "code",
   "execution_count": null,
   "metadata": {},
   "outputs": [],
   "source": [
    "with open(os.path.join(dataset_dir,'gw_250_pilot_param.pkl'),mode='wb') as pf:\n",
    "    pkl.dump(full_dataset_param_dict,pf)"
   ]
  },
  {
   "cell_type": "code",
   "execution_count": null,
   "metadata": {},
   "outputs": [],
   "source": []
  }
 ]
}