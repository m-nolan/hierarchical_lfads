{
 "metadata": {
  "language_info": {
   "codemirror_mode": {
    "name": "ipython",
    "version": 3
   },
   "file_extension": ".py",
   "mimetype": "text/x-python",
   "name": "python",
   "nbconvert_exporter": "python",
   "pygments_lexer": "ipython3",
   "version": "3.7.6"
  },
  "orig_nbformat": 2,
  "kernelspec": {
   "name": "python376jvsc74a57bd0a8b1621963cf260009cce534265ebd329ad9e92f76229299bf2e2f323a893fa1",
   "display_name": "Python 3.7.6 64-bit ('ecog_is2s': conda)"
  }
 },
 "nbformat": 4,
 "nbformat_minor": 2,
 "cells": [
  {
   "cell_type": "code",
   "execution_count": null,
   "metadata": {},
   "outputs": [],
   "source": [
    "import numpy as np\n",
    "import matplotlib.pyplot as plt"
   ]
  },
  {
   "cell_type": "code",
   "execution_count": null,
   "metadata": {},
   "outputs": [],
   "source": [
    "x = np.arange(start=-1.5,stop=1.5,step=0.01)\n",
    "mse = x**2\n",
    "mae = np.abs(x)"
   ]
  },
  {
   "cell_type": "code",
   "execution_count": null,
   "metadata": {},
   "outputs": [],
   "source": [
    "f, ax = plt.subplots(1,1,dpi=150)\n",
    "ax.plot(x,mse,color='tab:red',label='MSE')\n",
    "ax.plot(x,mae,color='tab:pink',label='MAE')\n",
    "ax.set_xlabel(r'$x-\\hat{x}$')\n",
    "ax.set_ylabel(r'$error\\left(x-\\hat{x}\\right)$')\n",
    "ax.legend(loc=0)\n",
    "ax.set_title('Loss Functions: MSE v. MAE')"
   ]
  },
  {
   "cell_type": "code",
   "execution_count": null,
   "metadata": {},
   "outputs": [],
   "source": [
    "quals_report_directory_path = r'G:\\My Drive\\publications\\Quals paper'\n",
    "f.savefig(os.path.join(quals_report_directory_path,'loss_function_comparison.png'))\n",
    "f.savefig(os.path.join(quals_report_directory_path,'loss_function_comparison.svg'))"
   ]
  },
  {
   "cell_type": "code",
   "execution_count": null,
   "metadata": {},
   "outputs": [],
   "source": []
  }
 ]
}