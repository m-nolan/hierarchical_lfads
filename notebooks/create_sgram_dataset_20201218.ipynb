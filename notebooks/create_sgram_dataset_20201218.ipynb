{
 "metadata": {
  "language_info": {
   "codemirror_mode": {
    "name": "ipython",
    "version": 3
   },
   "file_extension": ".py",
   "mimetype": "text/x-python",
   "name": "python",
   "nbconvert_exporter": "python",
   "pygments_lexer": "ipython3",
   "version": "3.7.6-final"
  },
  "orig_nbformat": 2,
  "kernelspec": {
   "name": "python3",
   "display_name": "Python 3",
   "language": "python"
  }
 },
 "nbformat": 4,
 "nbformat_minor": 2,
 "cells": [
  {
   "cell_type": "code",
   "execution_count": null,
   "metadata": {},
   "outputs": [],
   "source": [
    "import os\n",
    "import site\n",
    "from glob import glob\n",
    "site.addsitedir(\"C:\\\\Users\\\\mickey\\\\aoLab\\\\Code\\\\hierarchical_lfads\")\n",
    "from utils import write_data\n",
    "import pickle as pkl\n",
    "import h5py\n",
    "import numpy as np\n",
    "import scipy as sp\n",
    "import aopy\n",
    "import matplotlib.pyplot as plt\n",
    "from tqdm import tqdm"
   ]
  },
  {
   "cell_type": "code",
   "execution_count": null,
   "metadata": {},
   "outputs": [],
   "source": [
    "# load, downselect data segment\n",
    "data_file = 'C:\\\\Users\\\\mickey\\\\aoLab\\\\Data\\\\WirelessData\\\\Goose_Multiscale_M1\\\\180325\\\\007\\\\rec007.LM1_ECOG_3.clfp_ds250.dat'\n",
    "ch_idx = [28,27,5,24,57,43,8,31,41,37,44,47,59,9,49,20,53,45,25,14,13,40,21,35,39,48,58,52,33,46,56,17,60,30,23,61,15,34,54,51,10,42] # from whole-data dataset\n",
    "n_ch = len(ch_idx)\n",
    "datafile = aopy.data.DataFile(data_file)\n",
    "data = datafile.read()\n",
    "data_segment = data[ch_idx,550000:600000]"
   ]
  },
  {
   "cell_type": "code",
   "execution_count": null,
   "metadata": {},
   "outputs": [],
   "source": [
    "data_tensor = data_segment.T.reshape(50,-1,n_ch)"
   ]
  },
  {
   "cell_type": "code",
   "execution_count": null,
   "metadata": {},
   "outputs": [],
   "source": [
    "plt.plot(data_segment[10,:50])\n",
    "plt.plot(data_tensor[:,0,10])"
   ]
  },
  {
   "cell_type": "code",
   "execution_count": null,
   "metadata": {},
   "outputs": [],
   "source": [
    "a = np.arange(125).reshape(5,-1).T"
   ]
  },
  {
   "cell_type": "code",
   "execution_count": null,
   "metadata": {},
   "outputs": [],
   "source": [
    "a"
   ]
  },
  {
   "cell_type": "code",
   "execution_count": null,
   "metadata": {},
   "outputs": [],
   "source": []
  }
 ]
}