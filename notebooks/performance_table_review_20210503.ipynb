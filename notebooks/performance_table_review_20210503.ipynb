{
 "metadata": {
  "language_info": {
   "codemirror_mode": {
    "name": "ipython",
    "version": 3
   },
   "file_extension": ".py",
   "mimetype": "text/x-python",
   "name": "python",
   "nbconvert_exporter": "python",
   "pygments_lexer": "ipython3",
   "version": "3.7.6"
  },
  "orig_nbformat": 2,
  "kernelspec": {
   "name": "python376jvsc74a57bd0a8b1621963cf260009cce534265ebd329ad9e92f76229299bf2e2f323a893fa1",
   "display_name": "Python 3.7.6 64-bit ('ecog_is2s': conda)"
  }
 },
 "nbformat": 4,
 "nbformat_minor": 2,
 "cells": [
  {
   "cell_type": "code",
   "execution_count": 1,
   "metadata": {},
   "outputs": [],
   "source": [
    "import os\n",
    "import re\n",
    "import pandas as pd\n",
    "import seaborn as sns"
   ]
  },
  {
   "cell_type": "code",
   "execution_count": 2,
   "metadata": {},
   "outputs": [],
   "source": [
    "perf_table_file_path = r'D:\\Users\\mickey\\Data\\models\\pyt\\lfads\\gw_250\\lfads_ecog\\performance_table_all.csv'\n",
    "perf_table = pd.read_csv(perf_table_file_path)"
   ]
  },
  {
   "cell_type": "code",
   "execution_count": 4,
   "metadata": {},
   "outputs": [
    {
     "output_type": "execute_result",
     "data": {
      "text/plain": [
       "'cenc0_cont0_fact128_genc1024_gene1024_glat1024_nch42_seqlen50_ulat0_orion-varstd'"
      ]
     },
     "metadata": {},
     "execution_count": 4
    }
   ],
   "source": [
    "perf_table['model_dir_name'].values[0]"
   ]
  },
  {
   "cell_type": "code",
   "execution_count": 12,
   "metadata": {},
   "outputs": [],
   "source": [
    "model_name_hparam_pattern = 'cenc\\d*_cont\\d*_fact\\d*_genc\\d*_gene\\d*_glat\\d*_nch42_seqlen\\d*_ulat\\d*_orion*'\n",
    "match_out = re.match(model_name_hparam_pattern,perf_table['model_dir_name'].values[0])"
   ]
  },
  {
   "cell_type": "code",
   "execution_count": 22,
   "metadata": {},
   "outputs": [
    {
     "output_type": "execute_result",
     "data": {
      "text/plain": [
       "[['0', '0', '128', '1024', '1024', '1024', '42', '50', '0'],\n",
       " ['0', '0', '128', '1500', '1500', '1500', '42', '50', '0'],\n",
       " ['0', '0', '256', '1024', '1024', '1024', '42', '50', '0'],\n",
       " ['0', '0', '256', '512', '512', '512', '42', '50', '0'],\n",
       " ['0', '0', '32', '1024', '1024', '1024', '42', '50', '0'],\n",
       " ['0', '0', '64', '1024', '1024', '1024', '42', '100', '0'],\n",
       " ['0', '0', '64', '1024', '1024', '1024', '42', '50', '0'],\n",
       " ['0', '0', '64', '1024', '1024', '1024', '42', '50', '0'],\n",
       " ['0', '0', '64', '1024', '1024', '1024', '42', '50', '0'],\n",
       " ['0', '0', '64', '1024', '1024', '1024', '42', '50', '0'],\n",
       " ['0', '0', '64', '1024', '1024', '1024', '42', '50', '0'],\n",
       " ['0', '0', '64', '1024', '1024', '1024', '42', '50', '0'],\n",
       " ['0', '0', '64', '1024', '1024', '1024', '42', '50', '0'],\n",
       " ['0', '0', '64', '1024', '1024', '1024', '42', '50', '0'],\n",
       " ['0', '0', '64', '1024', '1500', '1024', '42', '50', '0'],\n",
       " ['0', '0', '96', '1024', '1024', '1024', '42', '50', '0'],\n",
       " ['256', '256', '64', '1024', '1024', '1024', '42', '50', '10'],\n",
       " ['256', '256', '64', '1024', '1024', '1024', '42', '50', '1']]"
      ]
     },
     "metadata": {},
     "execution_count": 22
    }
   ],
   "source": [
    "hparam_value_list = [re.findall(r'\\d+',s)[:9] for s in perf_table['model_dir_name'].values]"
   ]
  }
 ]
}