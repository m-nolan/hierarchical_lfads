{
 "metadata": {
  "language_info": {
   "codemirror_mode": {
    "name": "ipython",
    "version": 3
   },
   "file_extension": ".py",
   "mimetype": "text/x-python",
   "name": "python",
   "nbconvert_exporter": "python",
   "pygments_lexer": "ipython3",
   "version": "3.7.7-final"
  },
  "orig_nbformat": 2,
  "kernelspec": {
   "name": "Python 3.7.7 64-bit ('ecog_is2s': conda)",
   "display_name": "Python 3.7.7 64-bit ('ecog_is2s': conda)",
   "metadata": {
    "interpreter": {
     "hash": "fe8054fe0736511d0a995e424bd42fab5ba13013efdf79ed2907f82c79967e8d"
    }
   }
  }
 },
 "nbformat": 4,
 "nbformat_minor": 2,
 "cells": [
  {
   "cell_type": "code",
   "execution_count": 1,
   "metadata": {},
   "outputs": [],
   "source": [
    "import torch\n",
    "import numpy as np\n",
    "from scipy.signal import welch\n",
    "import matplotlib.pyplot as plt\n",
    "import os\n",
    "import sys\n",
    "import site\n",
    "site.addsitedir(os.path.curdir + '\\..')"
   ]
  },
  {
   "cell_type": "code",
   "execution_count": 2,
   "metadata": {},
   "outputs": [],
   "source": [
    "#-------------------------------------------------------------------\n",
    "#-------------------------------------------------------------------\n",
    "\n",
    "def prep_model(model_name, data_dict, data_suffix, batch_size, device, hyperparams):\n",
    "    if model_name == 'lfads_ecog':\n",
    "        # train_dl, valid_dl, input_dims, plotter = prep_data(data_dict=data_dict, data_suffix=data_suffix, batch_size=batch_size, device=device)\n",
    "        input_dims = data_dict['test_ecog_fl0u10'].shape[-1]\n",
    "        model, objective = prep_lfads_ecog(input_dims = input_dims,\n",
    "                                      hyperparams=hyperparams,\n",
    "                                      device= device,\n",
    "                                      dtype=data_dict['test_ecog_fl0u10'].dtype,\n",
    "                                      dt= data_dict['dt']\n",
    "                                      )\n",
    "    return model\n",
    "\n",
    "#-------------------------------------------------------------------\n",
    "#-------------------------------------------------------------------\n",
    "\n",
    "def prep_lfads_ecog(input_dims, hyperparams, device, dtype, dt):\n",
    "    from objective import LFADS_Loss, LogLikelihoodGaussian\n",
    "    from lfads import LFADS_Ecog_SingleSession_Net\n",
    "\n",
    "    model = LFADS_Ecog_SingleSession_Net(input_size           = input_dims,\n",
    "                                    factor_size          = hyperparams['model']['factor_size'],\n",
    "                                    g_encoder_size       = hyperparams['model']['g_encoder_size'],\n",
    "                                    c_encoder_size       = hyperparams['model']['c_encoder_size'],\n",
    "                                    g_latent_size        = hyperparams['model']['g_latent_size'],\n",
    "                                    u_latent_size        = hyperparams['model']['u_latent_size'],\n",
    "                                    controller_size      = hyperparams['model']['controller_size'],\n",
    "                                    generator_size       = hyperparams['model']['generator_size'],\n",
    "                                    prior                = hyperparams['model']['prior'],\n",
    "                                    clip_val             = hyperparams['model']['clip_val'],\n",
    "                                    dropout              = hyperparams['model']['dropout'],\n",
    "                                    do_normalize_factors = hyperparams['model']['normalize_factors'],\n",
    "                                    max_norm             = hyperparams['model']['max_norm'],\n",
    "                                    device               = device).to(device)\n",
    "    \n",
    "    loglikelihood = LogLikelihoodGaussian()\n",
    "\n",
    "    objective = LFADS_Loss(loglikelihood            = loglikelihood,\n",
    "                           loss_weight_dict         = {'kl': hyperparams['objective']['kl'], \n",
    "                                                       'l2': hyperparams['objective']['l2']},\n",
    "                           l2_con_scale             = hyperparams['objective']['l2_con_scale'],\n",
    "                           l2_gen_scale             = hyperparams['objective']['l2_gen_scale']).to(device)\n",
    "\n",
    "    return model, objective\n",
    "\n",
    "#-------------------------------------------------------------------\n",
    "#-------------------------------------------------------------------\n",
    "    \n",
    "def prep_data(data_dict, data_suffix, batch_size, device):\n",
    "    train_data  = torch.Tensor(data_dict['train_%s'%data_suffix])\n",
    "    valid_data  = torch.Tensor(data_dict['valid_%s'%data_suffix])\n",
    "    \n",
    "    num_trials, num_steps, input_size = train_data.shape\n",
    "    \n",
    "    train_ds    = EcogTensorDataset(train_data,device=device)\n",
    "    valid_ds    = EcogTensorDataset(valid_data,device=device)\n",
    "    \n",
    "    train_dl    = torch.utils.data.DataLoader(train_ds, batch_size = batch_size, shuffle=True)\n",
    "    valid_dl    = torch.utils.data.DataLoader(valid_ds, batch_size = batch_size)\n",
    "    \n",
    "    TIME = torch._np.arange(0, num_steps*data_dict['dt'], data_dict['dt'])\n",
    "    \n",
    "    train_truth = {}\n",
    "    if 'train_rates' in data_dict.keys():\n",
    "        train_truth['rates'] = data_dict['train_rates']\n",
    "    if 'train_latent' in data_dict.keys():\n",
    "        train_truth['latent'] = data_dict['train_latent']\n",
    "    if 'valid_spikes' in data_dict.keys():\n",
    "        train_truth['spikes'] = data_dict['train_spikes']\n",
    "        \n",
    "    valid_truth = {}\n",
    "    if 'valid_rates' in data_dict.keys():\n",
    "        valid_truth['rates'] = data_dict['valid_rates']\n",
    "    if 'valid_latent' in data_dict.keys():\n",
    "        valid_truth['latent'] = data_dict['valid_latent']\n",
    "    if 'valid_spikes' in data_dict.keys():\n",
    "        valid_truth['spikes'] = data_dict['valid_spikes']\n",
    "\n",
    "    plotter = None\n",
    "    # plotter = {'train' : Plotter(time=TIME, truth=train_truth),\n",
    "    #            'valid' : Plotter(time=TIME, truth=valid_truth)}\n",
    "    \n",
    "    return train_dl, valid_dl, input_size, plotter\n",
    "\n",
    "#-------------------------------------------------------------------\n",
    "#-------------------------------------------------------------------\n",
    "\n",
    "from torch.utils.data.dataset import Dataset\n",
    "class EcogTensorDataset(Dataset):\n",
    "    r\"\"\"Dataset wrapping tensors.\n",
    "\n",
    "    Each sample will be retrieved by indexing tensors along the first dimension.\n",
    "\n",
    "    Arguments:\n",
    "        *tensors (Tensor): tensors that have the same size of the first dimension.\n",
    "    \"\"\"\n",
    "\n",
    "    def __init__(self, *tensors, device='cpu'):\n",
    "        assert all(tensors[0].size(0) == tensor.size(0) for tensor in tensors)\n",
    "        self.tensors = tensors\n",
    "        self.device = device\n",
    "\n",
    "    def __getitem__(self, index):\n",
    "        return tuple(tensor[index].to(self.device) for tensor in self.tensors)\n",
    "\n",
    "    def __len__(self):\n",
    "        return self.tensors[0].size(0)\n",
    "\n",
    "#-------------------------------------------------------------------\n",
    "#-------------------------------------------------------------------\n",
    "\n",
    "import h5py\n",
    "def read_data(data_fname,keys):\n",
    "    \n",
    "    \"\"\" Read saved data in HDF5 format.\n",
    "\n",
    "    Args:\n",
    "        data_fname: The filename of the file from which to read the data.\n",
    "    Returns:\n",
    "        A dictionary whose keys will vary depending on dataset (but should\n",
    "        always contain the keys 'train_data' and 'valid_data') and whose\n",
    "        values are numpy arrays.\n",
    "    \"\"\"\n",
    "    try:\n",
    "        with h5py.File(data_fname, 'r') as hf:\n",
    "            data_dict = {k: np.array(v) for k, v in hf.items() if k in keys}\n",
    "            return data_dict\n",
    "    except IOError:\n",
    "        print(\"Cannot open %s for reading.\" % data_fname)\n",
    "        raise"
   ]
  },
  {
   "cell_type": "code",
   "execution_count": 3,
   "metadata": {},
   "outputs": [],
   "source": [
    "hyperparameter_path = \"C:\\\\Users\\\\mickey\\\\aoLab\\\\code\\\\hierarchical_lfads\\\\hyperparameters\\\\ecog\\\\lfads_ecog_3.yaml\"\n",
    "data_path = \"D:\\\\Users\\\\mickey\\\\Data\\\\datasets\\\\ecog\\\\goose_wireless\\\\gw_250_fl0u20\"\n",
    "data_suffix = \"ecog_fl0u10\"\n",
    "model_name = \"lfads_ecog\"\n",
    "batch_size = 1000\n",
    "device = 'cpu'"
   ]
  },
  {
   "cell_type": "code",
   "execution_count": 4,
   "metadata": {},
   "outputs": [],
   "source": [
    "from utils import  load_parameters\n",
    "hyperparams = load_parameters(hyperparameter_path)\n",
    "data_dict   = read_data(data_path,keys = ['test_ecog_fl0u10','dt'])\n",
    "model= prep_model(model_name = model_name,\n",
    "                                        data_dict = data_dict,\n",
    "                                        data_suffix = data_suffix,\n",
    "                                        batch_size = batch_size,\n",
    "                                        device = device,\n",
    "                                        hyperparams = hyperparams)\n",
    "srate = int(1/data_dict['dt'])"
   ]
  },
  {
   "cell_type": "code",
   "execution_count": 5,
   "metadata": {},
   "outputs": [
    {
     "output_type": "execute_result",
     "data": {
      "text/plain": [
       "<All keys matched successfully>"
      ]
     },
     "metadata": {},
     "execution_count": 5
    }
   ],
   "source": [
    "model_path = \"D:\\\\Users\\\\mickey\\\\Data\\\\models\\\\pyt\\\\lfads\\\\gw_250_fl0u20\\\\lfads_ecog\\\\cenc0_cont0_fact64_genc128_gene128_glat128_seqlen50_ulat0_orion-\\\\checkpoints\\\\best.pth\"\n",
    "# model_path = \"D:\\\\Users\\\\mickey\\\\Data\\\\models\\\\pyt\\\\lfads\\\\gw_250_fl0u10\\\\lfads_ecog\\\\cenc0_cont0_fact64_genc128_gene128_glat128_ulat0_orion-\\\\checkpoints\\\\best.pth\"\n",
    "checkpoint = torch.load(model_path)\n",
    "model.load_state_dict(checkpoint['net'])"
   ]
  },
  {
   "cell_type": "code",
   "execution_count": 6,
   "metadata": {},
   "outputs": [],
   "source": [
    "n_test_samples = data_dict['test_ecog_fl0u10'].shape[0]\n",
    "rates = model.forward(torch.tensor(data_dict['test_ecog_fl0u10'],dtype=torch.float))\n",
    "# rates = rates[0]['factors'].detach().numpy()"
   ]
  },
  {
   "cell_type": "code",
   "execution_count": null,
   "metadata": {},
   "outputs": [],
   "source": [
    "f_psd, factor_psd = welch(rates,fs=250,axis=0)\n",
    "plt.plot(f_psd, 10*np.log10(factor_psd.mean(axis=-1)));"
   ]
  },
  {
   "cell_type": "code",
   "execution_count": null,
   "metadata": {},
   "outputs": [],
   "source": [
    "factor_psd_mean = factor_psd.mean(axis=(1,2))\n",
    "factor_psd_95ci = np.percentile(factor_psd,[2.5, 97.5], axis=(1,2))"
   ]
  },
  {
   "cell_type": "code",
   "execution_count": null,
   "metadata": {},
   "outputs": [],
   "source": [
    "fig, ax = plt.subplots(1,1,dpi=80)\n",
    "ax.fill_between(f_psd, 10*np.log10(factor_psd_95ci[0,:]), 10*np.log10(factor_psd_95ci[1,:]), alpha=0.3, label='95% CI')\n",
    "ax.plot(f_psd, 10*np.log10(factor_psd_mean), label='mean')\n",
    "ax.legend(loc=0)\n",
    "ax.set_xlabel('freq. (Hz)')\n",
    "ax.set_ylabel('PSD (dB)')\n",
    "ax.set_title('Factor PSD, mean & CI')"
   ]
  },
  {
   "cell_type": "code",
   "execution_count": null,
   "metadata": {},
   "outputs": [],
   "source": [
    "f_psd, data_psd = welch(data_dict['test_ecog_fl0u10'],fs=250,axis=1)\n",
    "plt.plot(f_psd, 10*np.log10(data_psd.mean(axis=-1)).T);"
   ]
  },
  {
   "cell_type": "code",
   "execution_count": null,
   "metadata": {},
   "outputs": [],
   "source": [
    "data_psd_mean = np.median(data_psd,axis=0)\n",
    "data_psd_95ci = np.percentile(data_psd, [2.5, 97.5], axis=0)"
   ]
  },
  {
   "cell_type": "code",
   "execution_count": null,
   "metadata": {},
   "outputs": [],
   "source": [
    "fig, ax = plt.subplots(1,1,dpi=80)\n",
    "ax.fill_between(f_psd, 10*np.log10(data_psd_95ci[0,:,0]), 10*np.log10(data_psd_95ci[1,:,0]), alpha=0.3, label='95% CI')\n",
    "ax.plot(f_psd, 10*np.log10(data_psd_mean[:,0]), label='mean')\n",
    "ax.legend(loc=0)\n",
    "ax.set_xlabel('freq. (Hz)')\n",
    "ax.set_ylabel('PSD (dB)')\n",
    "ax.set_title('Data PSD, mean & CI')"
   ]
  },
  {
   "cell_type": "code",
   "execution_count": null,
   "metadata": {},
   "outputs": [],
   "source": [
    "fig, ax = plt.subplots(1,2,dpi=80,figsize=(8,4))\n",
    "ax[0].fill_between(f_psd, 10*np.log10(data_psd_95ci[0,:,0]), 10*np.log10(data_psd_95ci[1,:,0]), alpha=0.3, label='data 95% CI')\n",
    "ax[0].plot(f_psd, 10*np.log10(data_psd_mean[:,0]), label='data mean')\n",
    "ax[0].fill_between(f_psd, 10*np.log10(factor_psd_95ci[0,:]), 10*np.log10(factor_psd_95ci[1,:]), alpha=0.3, label='factor 95% CI')\n",
    "ax[0].plot(f_psd, 10*np.log10(factor_psd_mean), label='factor mean')\n",
    "ax[0].legend(loc=0)\n",
    "ax[0].set_xlabel('freq. (Hz)')\n",
    "ax[0].set_ylabel('PSD (dB)')\n",
    "ax[0].set_title('Data, Factor, mean & CI')\n",
    "ax[1].fill_between(f_psd, 10*np.log10(data_psd_95ci[0,:,0]), 10*np.log10(data_psd_95ci[1,:,0]), alpha=0.3, label='data 95% CI')\n",
    "ax[1].plot(f_psd, 10*np.log10(data_psd_mean[:,0]), label='data mean')\n",
    "ax[1].fill_between(f_psd, 10*np.log10(factor_psd_95ci[0,:]), 10*np.log10(factor_psd_95ci[1,:]), alpha=0.3, label='factor 95% CI')\n",
    "ax[1].plot(f_psd, 10*np.log10(factor_psd_mean), label='factor mean')\n",
    "ax[1].legend(loc=0)\n",
    "ax[1].set_xlabel('freq. (Hz)')\n",
    "ax[1].set_ylabel('PSD (dB)')\n",
    "ax[1].set_title('Data, Factor, mean & CI')\n",
    "ax[1].set_xlim(0,20)"
   ]
  },
  {
   "cell_type": "code",
   "execution_count": null,
   "metadata": {},
   "outputs": [],
   "source": []
  }
 ]
}